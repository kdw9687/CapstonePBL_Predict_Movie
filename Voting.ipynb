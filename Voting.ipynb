{
  "nbformat": 4,
  "nbformat_minor": 0,
  "metadata": {
    "colab": {
      "name": "Voting",
      "provenance": [],
      "collapsed_sections": [],
      "authorship_tag": "ABX9TyP7q45nMCxQ/Oh46A9ZDCoa",
      "include_colab_link": true
    },
    "kernelspec": {
      "name": "python3",
      "display_name": "Python 3"
    },
    "language_info": {
      "name": "python"
    },
    "accelerator": "GPU"
  },
  "cells": [
    {
      "cell_type": "markdown",
      "metadata": {
        "id": "view-in-github",
        "colab_type": "text"
      },
      "source": [
        "<a href=\"https://colab.research.google.com/github/kdw9687/CapstonePBL_Predict_Movie/blob/main/Voting.ipynb\" target=\"_parent\"><img src=\"https://colab.research.google.com/assets/colab-badge.svg\" alt=\"Open In Colab\"/></a>"
      ]
    },
    {
      "cell_type": "code",
      "metadata": {
        "colab": {
          "base_uri": "https://localhost:8080/"
        },
        "id": "dtf3yucHy6x2",
        "outputId": "0601512a-2084-4bec-c6f9-14722f5ed24d"
      },
      "source": [
        "import tensorflow as tf\n",
        "import pandas as pd\n",
        "import numpy as np\n",
        "from sklearn.model_selection import train_test_split\n",
        "from google.colab import drive\n",
        "from tensorflow.keras.models import Sequential\n",
        "from tensorflow.keras.layers import Dense,Input,Flatten,Activation\n",
        "from tensorflow.keras.utils import to_categorical\n",
        "drive.mount('/content/drive')\n",
        "from tensorflow.keras import backend as K\n",
        "from tensorflow.keras.models import Model\n",
        "import sys\n",
        "import numpy as np\n",
        "from sklearn import preprocessing\n",
        "\n",
        "np.set_printoptions(threshold=sys.maxsize)\n",
        "import pandas as pd\n",
        "import numpy as np\n",
        "import matplotlib.pyplot as plt\n",
        "from sklearn.linear_model import LinearRegression\n",
        "from sklearn.linear_model import LogisticRegression\n",
        "from sklearn.neighbors import KNeighborsClassifier\n",
        "from sklearn.neighbors import KNeighborsRegressor\n",
        "from sklearn.preprocessing import StandardScaler\n",
        "from sklearn.svm import SVR,SVC\n",
        "from sklearn.metrics import mean_squared_error\n",
        "from sklearn.naive_bayes import GaussianNB\n",
        "from sklearn.ensemble import VotingClassifier\n",
        "from sklearn.ensemble import VotingRegressor\n",
        "from sklearn.ensemble import RandomForestClassifier\n",
        "from sklearn.ensemble import RandomForestRegressor\n",
        "from sklearn.ensemble import GradientBoostingRegressor\n",
        "from sklearn.tree import DecisionTreeClassifier\n",
        "from sklearn.ensemble import AdaBoostClassifier"
      ],
      "execution_count": 1,
      "outputs": [
        {
          "output_type": "stream",
          "text": [
            "Mounted at /content/drive\n"
          ],
          "name": "stdout"
        }
      ]
    },
    {
      "cell_type": "code",
      "metadata": {
        "id": "f-gGSGoWzMeP"
      },
      "source": [
        "file='/content/drive/MyDrive/Colab Notebooks/데이터 판다스용완.csv'"
      ],
      "execution_count": 2,
      "outputs": []
    },
    {
      "cell_type": "code",
      "metadata": {
        "id": "Sr7n_VFazWfM"
      },
      "source": [
        "data=pd.read_csv(file)"
      ],
      "execution_count": 3,
      "outputs": []
    },
    {
      "cell_type": "code",
      "metadata": {
        "id": "DTTTzPbD0CJp"
      },
      "source": [
        "data=data.dropna()"
      ],
      "execution_count": 4,
      "outputs": []
    },
    {
      "cell_type": "code",
      "metadata": {
        "id": "chh2hayt2uMO"
      },
      "source": [
        "data.drop(columns=['순번','장르','국적.1','연휴 및 기념일 상영 여부','수상'],inplace=True)\n",
        "data.set_index('영화명',inplace=True)\n",
        "target=data['전국 관객수']\n",
        "target.dropna(inplace=True)\n",
        "x=data.drop(columns=['전국 매출액','전국 관객수'])\n",
        "y=target"
      ],
      "execution_count": 5,
      "outputs": []
    },
    {
      "cell_type": "code",
      "metadata": {
        "id": "9eyXStLjXo4s"
      },
      "source": [
        "scaler=preprocessing.StandardScaler()\n",
        "features_to_scale=['전국 스크린수','러닝타임','네티즌 평점']\n",
        "scale=scaler.fit_transform(data[features_to_scale])\n",
        "x[features_to_scale]=scale"
      ],
      "execution_count": 6,
      "outputs": []
    },
    {
      "cell_type": "code",
      "metadata": {
        "id": "-q6-JjE33bpt"
      },
      "source": [
        "for i in range(len(y)):\n",
        "  if y[i]>6000000:\n",
        "    y[i]=3\n",
        "  elif y[i]>3000000 and y[i]<=6000000:\n",
        "    y[i]=2\n",
        "  elif y[i]>1000000 and y[i]<=3000000:\n",
        "    y[i]=1\n",
        "  else:\n",
        "    y[i]=0\n",
        "  x=np.array(x)\n",
        "  y=np.array(y)"
      ],
      "execution_count": 7,
      "outputs": []
    },
    {
      "cell_type": "code",
      "metadata": {
        "id": "857eXF5OGB6X"
      },
      "source": [
        "model1=SVC(kernel='linear', C=0.06)\n",
        "model2=GaussianNB(var_smoothing=0.2)\n",
        "model3=RandomForestClassifier(n_estimators=5000,max_depth=5)\n",
        "model4=KNeighborsClassifier(n_neighbors=7)\n",
        "model5=LogisticRegression(C=0.1,multi_class='ovr',solver='lbfgs')\n",
        "model6=DecisionTreeClassifier(ccp_alpha=0.00615291)\n",
        "model7=AdaBoostClassifier(n_estimators=10000, random_state=5)\n",
        "vote_model = VotingClassifier(\n",
        "    estimators=[('svc',model1),('naive',model2),('forest',model3),('knn',model4),('log',model5),('Tree',model6),('boost',model7)],\n",
        "    voting='hard')"
      ],
      "execution_count": 8,
      "outputs": []
    },
    {
      "cell_type": "code",
      "metadata": {
        "colab": {
          "base_uri": "https://localhost:8080/"
        },
        "id": "aIM2iugJIxgf",
        "outputId": "b6f57310-030e-4469-a4e0-1a9a9fc5186c"
      },
      "source": [
        "x_train,x_test,y_train,y_test= train_test_split(x,y,random_state=777,test_size=0.2)\n",
        "vote_model.fit(x_train,y_train)"
      ],
      "execution_count": 9,
      "outputs": [
        {
          "output_type": "execute_result",
          "data": {
            "text/plain": [
              "VotingClassifier(estimators=[('svc',\n",
              "                              SVC(C=0.06, break_ties=False, cache_size=200,\n",
              "                                  class_weight=None, coef0=0.0,\n",
              "                                  decision_function_shape='ovr', degree=3,\n",
              "                                  gamma='scale', kernel='linear', max_iter=-1,\n",
              "                                  probability=False, random_state=None,\n",
              "                                  shrinking=True, tol=0.001, verbose=False)),\n",
              "                             ('naive',\n",
              "                              GaussianNB(priors=None, var_smoothing=0.2)),\n",
              "                             ('forest',\n",
              "                              RandomForestClassifier(...\n",
              "                                                     min_impurity_decrease=0.0,\n",
              "                                                     min_impurity_split=None,\n",
              "                                                     min_samples_leaf=1,\n",
              "                                                     min_samples_split=2,\n",
              "                                                     min_weight_fraction_leaf=0.0,\n",
              "                                                     presort='deprecated',\n",
              "                                                     random_state=None,\n",
              "                                                     splitter='best')),\n",
              "                             ('boost',\n",
              "                              AdaBoostClassifier(algorithm='SAMME.R',\n",
              "                                                 base_estimator=None,\n",
              "                                                 learning_rate=1.0,\n",
              "                                                 n_estimators=10000,\n",
              "                                                 random_state=5))],\n",
              "                 flatten_transform=True, n_jobs=None, voting='hard',\n",
              "                 weights=None)"
            ]
          },
          "metadata": {
            "tags": []
          },
          "execution_count": 9
        }
      ]
    },
    {
      "cell_type": "code",
      "metadata": {
        "id": "c_7TTSBhI6jW"
      },
      "source": [
        "y_pred=vote_model.predict(x_test)"
      ],
      "execution_count": 10,
      "outputs": []
    },
    {
      "cell_type": "code",
      "metadata": {
        "colab": {
          "base_uri": "https://localhost:8080/"
        },
        "id": "GjTy-SwKVDUJ",
        "outputId": "0726b88b-890b-4240-b450-953be8740b98"
      },
      "source": [
        "vote_model.score(x_test,y_test)"
      ],
      "execution_count": 11,
      "outputs": [
        {
          "output_type": "execute_result",
          "data": {
            "text/plain": [
              "0.655"
            ]
          },
          "metadata": {
            "tags": []
          },
          "execution_count": 11
        }
      ]
    },
    {
      "cell_type": "code",
      "metadata": {
        "id": "E4VZMCCCVizf"
      },
      "source": [
        "model1=SVC(kernel='linear', C=0.06, probability=True)\n",
        "model2=GaussianNB(var_smoothing=0.2)\n",
        "model3=RandomForestClassifier(n_estimators=5000,max_depth=5)\n",
        "model4=KNeighborsClassifier(n_neighbors=7)\n",
        "model5=LogisticRegression(C=0.1,multi_class='ovr',solver='lbfgs')\n",
        "model6=DecisionTreeClassifier(ccp_alpha=0.00615291)\n",
        "model7 = AdaBoostClassifier(n_estimators=10000, random_state=5)\n",
        "vote_model = VotingClassifier(\n",
        "    estimators=[('svc',model1),('naive',model2),('forest',model3),('knn',model4),('log',model5),('Tree',model6),('boost',model7)],\n",
        "    voting='soft')"
      ],
      "execution_count": 12,
      "outputs": []
    },
    {
      "cell_type": "code",
      "metadata": {
        "colab": {
          "base_uri": "https://localhost:8080/"
        },
        "id": "0RMCxQWWWbSO",
        "outputId": "0602ae5e-3633-457c-cf7c-2c277f8a870c"
      },
      "source": [
        "x_train,x_test,y_train,y_test= train_test_split(x,y,random_state=777,test_size=0.2)\n",
        "vote_model.fit(x_train,y_train)"
      ],
      "execution_count": 13,
      "outputs": [
        {
          "output_type": "execute_result",
          "data": {
            "text/plain": [
              "VotingClassifier(estimators=[('svc',\n",
              "                              SVC(C=0.06, break_ties=False, cache_size=200,\n",
              "                                  class_weight=None, coef0=0.0,\n",
              "                                  decision_function_shape='ovr', degree=3,\n",
              "                                  gamma='scale', kernel='linear', max_iter=-1,\n",
              "                                  probability=True, random_state=None,\n",
              "                                  shrinking=True, tol=0.001, verbose=False)),\n",
              "                             ('naive',\n",
              "                              GaussianNB(priors=None, var_smoothing=0.2)),\n",
              "                             ('forest',\n",
              "                              RandomForestClassifier(b...\n",
              "                                                     min_impurity_decrease=0.0,\n",
              "                                                     min_impurity_split=None,\n",
              "                                                     min_samples_leaf=1,\n",
              "                                                     min_samples_split=2,\n",
              "                                                     min_weight_fraction_leaf=0.0,\n",
              "                                                     presort='deprecated',\n",
              "                                                     random_state=None,\n",
              "                                                     splitter='best')),\n",
              "                             ('boost',\n",
              "                              AdaBoostClassifier(algorithm='SAMME.R',\n",
              "                                                 base_estimator=None,\n",
              "                                                 learning_rate=1.0,\n",
              "                                                 n_estimators=10000,\n",
              "                                                 random_state=5))],\n",
              "                 flatten_transform=True, n_jobs=None, voting='soft',\n",
              "                 weights=None)"
            ]
          },
          "metadata": {
            "tags": []
          },
          "execution_count": 13
        }
      ]
    },
    {
      "cell_type": "code",
      "metadata": {
        "colab": {
          "base_uri": "https://localhost:8080/"
        },
        "id": "zsMfTWJIWd7H",
        "outputId": "d3c7494f-2a07-44a1-c671-115990b1db66"
      },
      "source": [
        "vote_model.score(x_test,y_test)"
      ],
      "execution_count": 14,
      "outputs": [
        {
          "output_type": "execute_result",
          "data": {
            "text/plain": [
              "0.67"
            ]
          },
          "metadata": {
            "tags": []
          },
          "execution_count": 14
        }
      ]
    },
    {
      "cell_type": "code",
      "metadata": {
        "colab": {
          "base_uri": "https://localhost:8080/"
        },
        "id": "piRKUXkS2QlL",
        "outputId": "bd212cb2-43d2-48f4-971e-7384de19f310"
      },
      "source": [
        "furious=[[0 for i in range(1,37)]]\n",
        "furious[0][0]=1\n",
        "furious[0][1]=1\n",
        "furious[0][2]=1\n",
        "furious[0][4]=3.923\n",
        "furious[0][5]=3\n",
        "furious[0][19]=1\n",
        "furious[0][-5]=1\n",
        "furious[0][-7]=1\n",
        "furious[0][-8]=1\n",
        "furious[0][-10]=1.09\n",
        "furious[0][-11]=1.59\n",
        "vote_model.predict(furious)"
      ],
      "execution_count": 15,
      "outputs": [
        {
          "output_type": "execute_result",
          "data": {
            "text/plain": [
              "array([2.])"
            ]
          },
          "metadata": {
            "tags": []
          },
          "execution_count": 15
        }
      ]
    },
    {
      "cell_type": "code",
      "metadata": {
        "colab": {
          "base_uri": "https://localhost:8080/"
        },
        "id": "cAdGpzUD2Qt3",
        "outputId": "174978e1-feec-4501-ffc2-4792ca8563a5"
      },
      "source": [
        "cruela=furious\n",
        "cruela[0][0]=1\n",
        "cruela[0][1]=1\n",
        "cruela[0][2]=1\n",
        "cruela[0][4]=1.169\n",
        "cruela[0][5]=3\n",
        "cruela[0][11]=1\n",
        "cruela[0][-5]=1\n",
        "cruela[0][-7]=0\n",
        "cruela[0][-8]=0\n",
        "cruela[0][-10]=1.61\n",
        "cruela[0][-11]=1.06\n",
        "vote_model.predict(cruela)"
      ],
      "execution_count": 16,
      "outputs": [
        {
          "output_type": "execute_result",
          "data": {
            "text/plain": [
              "array([1.])"
            ]
          },
          "metadata": {
            "tags": []
          },
          "execution_count": 16
        }
      ]
    },
    {
      "cell_type": "code",
      "metadata": {
        "id": "MpBA9lNp2Q8Q",
        "colab": {
          "base_uri": "https://localhost:8080/",
          "height": 442
        },
        "outputId": "f08e2b85-d42a-40b6-d468-c13401af0dde"
      },
      "source": [
        "results=vote_model.predict(x_test)\n",
        "from sklearn.metrics import classification_report, confusion_matrix\n",
        "import seaborn as sns\n",
        "\n",
        "plt.figure(figsize=(7,7))\n",
        "cm=confusion_matrix(y_test,results)\n",
        "sns.heatmap(cm,annot=True,fmt='d',cmap='Blues')\n",
        "plt.xlabel('predicted label')\n",
        "plt.ylabel('true label')\n",
        "plt.show()"
      ],
      "execution_count": 17,
      "outputs": [
        {
          "output_type": "display_data",
          "data": {
            "image/png": "[encoded data removed]",
            "text/plain": [
              "<Figure size 504x504 with 2 Axes>"
            ]
          },
          "metadata": {
            "tags": [],
            "needs_background": "light"
          }
        }
      ]
    },
    {
      "cell_type": "code",
      "metadata": {
        "colab": {
          "base_uri": "https://localhost:8080/"
        },
        "id": "j-HL4K2-Rz9a",
        "outputId": "decccd5f-86fd-4d25-9f76-2718d43a0f9e"
      },
      "source": [
        "print('\\n',classification_report(y_test,results))"
      ],
      "execution_count": 18,
      "outputs": [
        {
          "output_type": "stream",
          "text": [
            "\n",
            "               precision    recall  f1-score   support\n",
            "\n",
            "         0.0       0.78      0.88      0.83        97\n",
            "         1.0       0.51      0.65      0.57        57\n",
            "         2.0       0.56      0.18      0.27        28\n",
            "         3.0       0.78      0.39      0.52        18\n",
            "\n",
            "    accuracy                           0.67       200\n",
            "   macro avg       0.65      0.52      0.55       200\n",
            "weighted avg       0.67      0.67      0.65       200\n",
            "\n"
          ],
          "name": "stdout"
        }
      ]
    },
    {
      "cell_type": "code",
      "metadata": {
        "id": "xS-6y2azSlTf"
      },
      "source": [
        ""
      ],
      "execution_count": 18,
      "outputs": []
    }
  ]
}