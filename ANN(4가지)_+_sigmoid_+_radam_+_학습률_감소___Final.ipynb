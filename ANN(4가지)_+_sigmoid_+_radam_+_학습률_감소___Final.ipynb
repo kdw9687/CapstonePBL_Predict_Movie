{
  "nbformat": 4,
  "nbformat_minor": 0,
  "metadata": {
    "colab": {
      "name": "ANN(4가지) + sigmoid + radam + 학습률 감소 _ Final",
      "provenance": [],
      "collapsed_sections": [],
      "authorship_tag": "ABX9TyMKdZhrnyUQgtyxfA3t1wzu",
      "include_colab_link": true
    },
    "kernelspec": {
      "name": "python3",
      "display_name": "Python 3"
    },
    "language_info": {
      "name": "python"
    },
    "accelerator": "GPU"
  },
  "cells": [
    {
      "cell_type": "markdown",
      "metadata": {
        "id": "view-in-github",
        "colab_type": "text"
      },
      "source": [
        "<a href=\"https://colab.research.google.com/github/kdw9687/CapstonePBL_Predict_Movie/blob/main/ANN(4%EA%B0%80%EC%A7%80)_%2B_sigmoid_%2B_radam_%2B_%ED%95%99%EC%8A%B5%EB%A5%A0_%EA%B0%90%EC%86%8C___Final.ipynb\" target=\"_parent\"><img src=\"https://colab.research.google.com/assets/colab-badge.svg\" alt=\"Open In Colab\"/></a>"
      ]
    },
    {
      "cell_type": "code",
      "metadata": {
        "colab": {
          "base_uri": "https://localhost:8080/"
        },
        "id": "MjCBhV0x5yds",
        "outputId": "49f8db34-b59e-4729-e3e7-33492908bb6e"
      },
      "source": [
        "#@title \n",
        "!pip install -q keras-bert keras-rectified-adam\n",
        "!wget -q https://storage.googleapis.com/bert_models/2018_10_18/uncased_L-12_H-768_A-12.zip\n",
        "!unzip -o uncased_L-12_H-768_A-12.zip\n",
        "!pip install -U keras-tuner\n",
        "!pip install -q -U tensorflow-addons"
      ],
      "execution_count": 1,
      "outputs": [
        {
          "output_type": "stream",
          "text": [
            "  Building wheel for keras-bert (setup.py) ... \u001b[?25l\u001b[?25hdone\n",
            "  Building wheel for keras-rectified-adam (setup.py) ... \u001b[?25l\u001b[?25hdone\n",
            "  Building wheel for keras-transformer (setup.py) ... \u001b[?25l\u001b[?25hdone\n",
            "  Building wheel for keras-pos-embd (setup.py) ... \u001b[?25l\u001b[?25hdone\n",
            "  Building wheel for keras-multi-head (setup.py) ... \u001b[?25l\u001b[?25hdone\n",
            "  Building wheel for keras-layer-normalization (setup.py) ... \u001b[?25l\u001b[?25hdone\n",
            "  Building wheel for keras-position-wise-feed-forward (setup.py) ... \u001b[?25l\u001b[?25hdone\n",
            "  Building wheel for keras-embed-sim (setup.py) ... \u001b[?25l\u001b[?25hdone\n",
            "  Building wheel for keras-self-attention (setup.py) ... \u001b[?25l\u001b[?25hdone\n",
            "Archive:  uncased_L-12_H-768_A-12.zip\n",
            "   creating: uncased_L-12_H-768_A-12/\n",
            "  inflating: uncased_L-12_H-768_A-12/bert_model.ckpt.meta  \n",
            "  inflating: uncased_L-12_H-768_A-12/bert_model.ckpt.data-00000-of-00001  \n",
            "  inflating: uncased_L-12_H-768_A-12/vocab.txt  \n",
            "  inflating: uncased_L-12_H-768_A-12/bert_model.ckpt.index  \n",
            "  inflating: uncased_L-12_H-768_A-12/bert_config.json  \n",
            "Collecting keras-tuner\n",
            "\u001b[?25l  Downloading https://files.pythonhosted.org/packages/a2/ba/c7a7cda64b67846bde66ffdaaf3199a79d4e35ab6b6f170cc1b7d235646e/keras_tuner-1.0.3-py3-none-any.whl (96kB)\n",
            "\u001b[K     |████████████████████████████████| 102kB 5.9MB/s \n",
            "\u001b[?25hRequirement already satisfied, skipping upgrade: packaging in /usr/local/lib/python3.7/dist-packages (from keras-tuner) (20.9)\n",
            "Requirement already satisfied, skipping upgrade: scipy in /usr/local/lib/python3.7/dist-packages (from keras-tuner) (1.4.1)\n",
            "Collecting kt-legacy\n",
            "  Downloading https://files.pythonhosted.org/packages/76/c7/7ebe02ef2495b84a47dc92a4e943260b264b6546783ca23e451bcd8c09c1/kt-legacy-1.0.3.tar.gz\n",
            "Requirement already satisfied, skipping upgrade: tensorboard in /usr/local/lib/python3.7/dist-packages (from keras-tuner) (2.5.0)\n",
            "Requirement already satisfied, skipping upgrade: numpy in /usr/local/lib/python3.7/dist-packages (from keras-tuner) (1.19.5)\n",
            "Requirement already satisfied, skipping upgrade: ipython in /usr/local/lib/python3.7/dist-packages (from keras-tuner) (5.5.0)\n",
            "Requirement already satisfied, skipping upgrade: requests in /usr/local/lib/python3.7/dist-packages (from keras-tuner) (2.23.0)\n",
            "Requirement already satisfied, skipping upgrade: pyparsing>=2.0.2 in /usr/local/lib/python3.7/dist-packages (from packaging->keras-tuner) (2.4.7)\n",
            "Requirement already satisfied, skipping upgrade: grpcio>=1.24.3 in /usr/local/lib/python3.7/dist-packages (from tensorboard->keras-tuner) (1.34.1)\n",
            "Requirement already satisfied, skipping upgrade: markdown>=2.6.8 in /usr/local/lib/python3.7/dist-packages (from tensorboard->keras-tuner) (3.3.4)\n",
            "Requirement already satisfied, skipping upgrade: protobuf>=3.6.0 in /usr/local/lib/python3.7/dist-packages (from tensorboard->keras-tuner) (3.12.4)\n",
            "Requirement already satisfied, skipping upgrade: google-auth-oauthlib<0.5,>=0.4.1 in /usr/local/lib/python3.7/dist-packages (from tensorboard->keras-tuner) (0.4.4)\n",
            "Requirement already satisfied, skipping upgrade: absl-py>=0.4 in /usr/local/lib/python3.7/dist-packages (from tensorboard->keras-tuner) (0.12.0)\n",
            "Requirement already satisfied, skipping upgrade: tensorboard-plugin-wit>=1.6.0 in /usr/local/lib/python3.7/dist-packages (from tensorboard->keras-tuner) (1.8.0)\n",
            "Requirement already satisfied, skipping upgrade: tensorboard-data-server<0.7.0,>=0.6.0 in /usr/local/lib/python3.7/dist-packages (from tensorboard->keras-tuner) (0.6.1)\n",
            "Requirement already satisfied, skipping upgrade: google-auth<2,>=1.6.3 in /usr/local/lib/python3.7/dist-packages (from tensorboard->keras-tuner) (1.31.0)\n",
            "Requirement already satisfied, skipping upgrade: setuptools>=41.0.0 in /usr/local/lib/python3.7/dist-packages (from tensorboard->keras-tuner) (57.0.0)\n",
            "Requirement already satisfied, skipping upgrade: wheel>=0.26; python_version >= \"3\" in /usr/local/lib/python3.7/dist-packages (from tensorboard->keras-tuner) (0.36.2)\n",
            "Requirement already satisfied, skipping upgrade: werkzeug>=0.11.15 in /usr/local/lib/python3.7/dist-packages (from tensorboard->keras-tuner) (1.0.1)\n",
            "Requirement already satisfied, skipping upgrade: pygments in /usr/local/lib/python3.7/dist-packages (from ipython->keras-tuner) (2.6.1)\n",
            "Requirement already satisfied, skipping upgrade: pexpect; sys_platform != \"win32\" in /usr/local/lib/python3.7/dist-packages (from ipython->keras-tuner) (4.8.0)\n",
            "Requirement already satisfied, skipping upgrade: pickleshare in /usr/local/lib/python3.7/dist-packages (from ipython->keras-tuner) (0.7.5)\n",
            "Requirement already satisfied, skipping upgrade: decorator in /usr/local/lib/python3.7/dist-packages (from ipython->keras-tuner) (4.4.2)\n",
            "Requirement already satisfied, skipping upgrade: traitlets>=4.2 in /usr/local/lib/python3.7/dist-packages (from ipython->keras-tuner) (5.0.5)\n",
            "Requirement already satisfied, skipping upgrade: prompt-toolkit<2.0.0,>=1.0.4 in /usr/local/lib/python3.7/dist-packages (from ipython->keras-tuner) (1.0.18)\n",
            "Requirement already satisfied, skipping upgrade: simplegeneric>0.8 in /usr/local/lib/python3.7/dist-packages (from ipython->keras-tuner) (0.8.1)\n",
            "Requirement already satisfied, skipping upgrade: chardet<4,>=3.0.2 in /usr/local/lib/python3.7/dist-packages (from requests->keras-tuner) (3.0.4)\n",
            "Requirement already satisfied, skipping upgrade: idna<3,>=2.5 in /usr/local/lib/python3.7/dist-packages (from requests->keras-tuner) (2.10)\n",
            "Requirement already satisfied, skipping upgrade: urllib3!=1.25.0,!=1.25.1,<1.26,>=1.21.1 in /usr/local/lib/python3.7/dist-packages (from requests->keras-tuner) (1.24.3)\n",
            "Requirement already satisfied, skipping upgrade: certifi>=2017.4.17 in /usr/local/lib/python3.7/dist-packages (from requests->keras-tuner) (2021.5.30)\n",
            "Requirement already satisfied, skipping upgrade: six>=1.5.2 in /usr/local/lib/python3.7/dist-packages (from grpcio>=1.24.3->tensorboard->keras-tuner) (1.15.0)\n",
            "Requirement already satisfied, skipping upgrade: importlib-metadata; python_version < \"3.8\" in /usr/local/lib/python3.7/dist-packages (from markdown>=2.6.8->tensorboard->keras-tuner) (4.5.0)\n",
            "Requirement already satisfied, skipping upgrade: requests-oauthlib>=0.7.0 in /usr/local/lib/python3.7/dist-packages (from google-auth-oauthlib<0.5,>=0.4.1->tensorboard->keras-tuner) (1.3.0)\n",
            "Requirement already satisfied, skipping upgrade: rsa<5,>=3.1.4; python_version >= \"3.6\" in /usr/local/lib/python3.7/dist-packages (from google-auth<2,>=1.6.3->tensorboard->keras-tuner) (4.7.2)\n",
            "Requirement already satisfied, skipping upgrade: pyasn1-modules>=0.2.1 in /usr/local/lib/python3.7/dist-packages (from google-auth<2,>=1.6.3->tensorboard->keras-tuner) (0.2.8)\n",
            "Requirement already satisfied, skipping upgrade: cachetools<5.0,>=2.0.0 in /usr/local/lib/python3.7/dist-packages (from google-auth<2,>=1.6.3->tensorboard->keras-tuner) (4.2.2)\n",
            "Requirement already satisfied, skipping upgrade: ptyprocess>=0.5 in /usr/local/lib/python3.7/dist-packages (from pexpect; sys_platform != \"win32\"->ipython->keras-tuner) (0.7.0)\n",
            "Requirement already satisfied, skipping upgrade: ipython-genutils in /usr/local/lib/python3.7/dist-packages (from traitlets>=4.2->ipython->keras-tuner) (0.2.0)\n",
            "Requirement already satisfied, skipping upgrade: wcwidth in /usr/local/lib/python3.7/dist-packages (from prompt-toolkit<2.0.0,>=1.0.4->ipython->keras-tuner) (0.2.5)\n",
            "Requirement already satisfied, skipping upgrade: zipp>=0.5 in /usr/local/lib/python3.7/dist-packages (from importlib-metadata; python_version < \"3.8\"->markdown>=2.6.8->tensorboard->keras-tuner) (3.4.1)\n",
            "Requirement already satisfied, skipping upgrade: typing-extensions>=3.6.4; python_version < \"3.8\" in /usr/local/lib/python3.7/dist-packages (from importlib-metadata; python_version < \"3.8\"->markdown>=2.6.8->tensorboard->keras-tuner) (3.7.4.3)\n",
            "Requirement already satisfied, skipping upgrade: oauthlib>=3.0.0 in /usr/local/lib/python3.7/dist-packages (from requests-oauthlib>=0.7.0->google-auth-oauthlib<0.5,>=0.4.1->tensorboard->keras-tuner) (3.1.1)\n",
            "Requirement already satisfied, skipping upgrade: pyasn1>=0.1.3 in /usr/local/lib/python3.7/dist-packages (from rsa<5,>=3.1.4; python_version >= \"3.6\"->google-auth<2,>=1.6.3->tensorboard->keras-tuner) (0.4.8)\n",
            "Building wheels for collected packages: kt-legacy\n",
            "  Building wheel for kt-legacy (setup.py) ... \u001b[?25l\u001b[?25hdone\n",
            "  Created wheel for kt-legacy: filename=kt_legacy-1.0.3-cp37-none-any.whl size=9569 sha256=9ca113afdee6dc13a2735ec8bdc3dec7047a383c6936a4eeb70d178155dd0b6e\n",
            "  Stored in directory: /root/.cache/pip/wheels/95/99/a8/6b116b0f69be60cc475d1cd36680f3a09f284d86655bb99d93\n",
            "Successfully built kt-legacy\n",
            "Installing collected packages: kt-legacy, keras-tuner\n",
            "Successfully installed keras-tuner-1.0.3 kt-legacy-1.0.3\n",
            "\u001b[K     |████████████████████████████████| 686kB 7.7MB/s \n",
            "\u001b[?25h"
          ],
          "name": "stdout"
        }
      ]
    },
    {
      "cell_type": "code",
      "metadata": {
        "colab": {
          "base_uri": "https://localhost:8080/"
        },
        "id": "dtf3yucHy6x2",
        "outputId": "d4072955-2ac5-47aa-d970-9ed4812f41dc"
      },
      "source": [
        "import tensorflow as tf\n",
        "import pandas as pd\n",
        "import numpy as np\n",
        "from sklearn.model_selection import train_test_split\n",
        "from google.colab import drive\n",
        "from tensorflow.keras.models import Sequential\n",
        "from tensorflow.keras.layers import Dense,Input,Flatten,Activation\n",
        "from tensorflow.keras.utils import to_categorical\n",
        "drive.mount('/content/drive')\n",
        "from tensorflow.keras import backend as K\n",
        "from tensorflow.keras.models import Model\n",
        "import sys\n",
        "import numpy as np\n",
        "from sklearn import preprocessing\n",
        "from keras_radam import RAdam\n",
        "np.set_printoptions(threshold=sys.maxsize)"
      ],
      "execution_count": 2,
      "outputs": [
        {
          "output_type": "stream",
          "text": [
            "Mounted at /content/drive\n"
          ],
          "name": "stdout"
        }
      ]
    },
    {
      "cell_type": "code",
      "metadata": {
        "id": "8bN6vHoxy8l4"
      },
      "source": [
        "def Mish(x):\n",
        "  return x * K.tanh(K.softplus(x))"
      ],
      "execution_count": 3,
      "outputs": []
    },
    {
      "cell_type": "code",
      "metadata": {
        "id": "f-gGSGoWzMeP"
      },
      "source": [
        "file='/content/drive/MyDrive/Colab Notebooks/데이터 판다스용완.csv'"
      ],
      "execution_count": 4,
      "outputs": []
    },
    {
      "cell_type": "code",
      "metadata": {
        "id": "Sr7n_VFazWfM"
      },
      "source": [
        "data=pd.read_csv(file)"
      ],
      "execution_count": 5,
      "outputs": []
    },
    {
      "cell_type": "code",
      "metadata": {
        "id": "DTTTzPbD0CJp"
      },
      "source": [
        "data=data.dropna()"
      ],
      "execution_count": 6,
      "outputs": []
    },
    {
      "cell_type": "code",
      "metadata": {
        "id": "chh2hayt2uMO"
      },
      "source": [
        "data.drop(columns=['순번','장르','국적.1','연휴 및 기념일 상영 여부','수상'],inplace=True)\n",
        "data.set_index('영화명',inplace=True)\n",
        "target=data['전국 관객수']\n",
        "target.dropna(inplace=True)\n",
        "x=data.drop(columns=['전국 매출액','전국 관객수'])\n",
        "y=target"
      ],
      "execution_count": 7,
      "outputs": []
    },
    {
      "cell_type": "code",
      "metadata": {
        "id": "9eyXStLjXo4s"
      },
      "source": [
        "scaler=preprocessing.StandardScaler()\n",
        "features_to_scale=['전국 스크린수','러닝타임','네티즌 평점']\n",
        "scale=scaler.fit_transform(data[features_to_scale])\n",
        "x[features_to_scale]=scale"
      ],
      "execution_count": 8,
      "outputs": []
    },
    {
      "cell_type": "code",
      "metadata": {
        "id": "-q6-JjE33bpt"
      },
      "source": [
        "for i in range(len(y)):\n",
        "  if y[i]>6000000:\n",
        "    y[i]=3\n",
        "  elif y[i]>3000000 and y[i]<=6000000:\n",
        "    y[i]=2\n",
        "  elif y[i]>1000000 and y[i]<=3000000:\n",
        "    y[i]=1\n",
        "  else:\n",
        "    y[i]=0\n",
        "  x=np.array(x)\n",
        "  y=np.array(y)"
      ],
      "execution_count": 9,
      "outputs": []
    },
    {
      "cell_type": "code",
      "metadata": {
        "id": "d_hOZMsT5NCm"
      },
      "source": [
        "x_train,x_val,y_train,y_val=train_test_split(x,y,test_size=0.2,random_state=5)"
      ],
      "execution_count": 10,
      "outputs": []
    },
    {
      "cell_type": "code",
      "metadata": {
        "id": "aZDsL9F-5nyk"
      },
      "source": [
        "y_train=to_categorical(y_train)\n",
        "y_val=to_categorical(y_val)"
      ],
      "execution_count": 11,
      "outputs": []
    },
    {
      "cell_type": "code",
      "metadata": {
        "id": "_snbunfZ5YXg"
      },
      "source": [
        "inputs=Input(shape=(36,))\n",
        "x=Flatten()(inputs)\n",
        "x=Dense(800)(x)\n",
        "x=Activation('sigmoid')(x)\n",
        "x=Dense(400)(x)\n",
        "x=Activation('sigmoid')(x)\n",
        "x=Dense(4,activation='softmax')(x)\n",
        "model=Model(inputs=inputs,outputs=x)"
      ],
      "execution_count": 12,
      "outputs": []
    },
    {
      "cell_type": "code",
      "metadata": {
        "id": "OIeWa0oN6zTl"
      },
      "source": [
        "model.compile(optimizer=RAdam(learning_rate=tf.compat.v1.train.exponential_decay(0.001,\n",
        "0,5, 0.95,staircase=True)),loss='categorical_crossentropy',metrics=['acc'])"
      ],
      "execution_count": 13,
      "outputs": []
    },
    {
      "cell_type": "code",
      "metadata": {
        "id": "cE34DJsd7LSV",
        "colab": {
          "base_uri": "https://localhost:8080/"
        },
        "outputId": "62c9bbab-c6fb-477d-abc6-8d189a05ac94"
      },
      "source": [
        "history=model.fit(x_train,y_train,epochs=100,batch_size=40,validation_data=(x_val,y_val))"
      ],
      "execution_count": 14,
      "outputs": [
        {
          "output_type": "stream",
          "text": [
            "Epoch 1/100\n",
            "20/20 [==============================] - 4s 12ms/step - loss: 1.6712 - acc: 0.3275 - val_loss: 1.1407 - val_acc: 0.5250\n",
            "Epoch 2/100\n",
            "20/20 [==============================] - 0s 5ms/step - loss: 1.1898 - acc: 0.4775 - val_loss: 1.0508 - val_acc: 0.5250\n",
            "Epoch 3/100\n",
            "20/20 [==============================] - 0s 5ms/step - loss: 1.1551 - acc: 0.4762 - val_loss: 1.0319 - val_acc: 0.5250\n",
            "Epoch 4/100\n",
            "20/20 [==============================] - 0s 5ms/step - loss: 1.1281 - acc: 0.4775 - val_loss: 1.0248 - val_acc: 0.5250\n",
            "Epoch 5/100\n",
            "20/20 [==============================] - 0s 4ms/step - loss: 1.1078 - acc: 0.4775 - val_loss: 0.9984 - val_acc: 0.5250\n",
            "Epoch 6/100\n",
            "20/20 [==============================] - 0s 4ms/step - loss: 1.0922 - acc: 0.5038 - val_loss: 1.0155 - val_acc: 0.5250\n",
            "Epoch 7/100\n",
            "20/20 [==============================] - 0s 5ms/step - loss: 1.0644 - acc: 0.4900 - val_loss: 0.9795 - val_acc: 0.5500\n",
            "Epoch 8/100\n",
            "20/20 [==============================] - 0s 5ms/step - loss: 1.0506 - acc: 0.5025 - val_loss: 0.9718 - val_acc: 0.5350\n",
            "Epoch 9/100\n",
            "20/20 [==============================] - 0s 6ms/step - loss: 1.0238 - acc: 0.5138 - val_loss: 0.9656 - val_acc: 0.5300\n",
            "Epoch 10/100\n",
            "20/20 [==============================] - 0s 5ms/step - loss: 1.0106 - acc: 0.5500 - val_loss: 0.9712 - val_acc: 0.6200\n",
            "Epoch 11/100\n",
            "20/20 [==============================] - 0s 5ms/step - loss: 0.9981 - acc: 0.5200 - val_loss: 0.9433 - val_acc: 0.5600\n",
            "Epoch 12/100\n",
            "20/20 [==============================] - 0s 6ms/step - loss: 0.9501 - acc: 0.5575 - val_loss: 0.9013 - val_acc: 0.6050\n",
            "Epoch 13/100\n",
            "20/20 [==============================] - 0s 4ms/step - loss: 0.9207 - acc: 0.5663 - val_loss: 0.8726 - val_acc: 0.6100\n",
            "Epoch 14/100\n",
            "20/20 [==============================] - 0s 4ms/step - loss: 0.9031 - acc: 0.5987 - val_loss: 0.8510 - val_acc: 0.6250\n",
            "Epoch 15/100\n",
            "20/20 [==============================] - 0s 5ms/step - loss: 0.8856 - acc: 0.5700 - val_loss: 0.8926 - val_acc: 0.5500\n",
            "Epoch 16/100\n",
            "20/20 [==============================] - 0s 5ms/step - loss: 0.8626 - acc: 0.6000 - val_loss: 0.8313 - val_acc: 0.6200\n",
            "Epoch 17/100\n",
            "20/20 [==============================] - 0s 5ms/step - loss: 0.8317 - acc: 0.6250 - val_loss: 0.8179 - val_acc: 0.6300\n",
            "Epoch 18/100\n",
            "20/20 [==============================] - 0s 5ms/step - loss: 0.8098 - acc: 0.6413 - val_loss: 0.8535 - val_acc: 0.6450\n",
            "Epoch 19/100\n",
            "20/20 [==============================] - 0s 5ms/step - loss: 0.8043 - acc: 0.6325 - val_loss: 0.8386 - val_acc: 0.6400\n",
            "Epoch 20/100\n",
            "20/20 [==============================] - 0s 5ms/step - loss: 0.7837 - acc: 0.6463 - val_loss: 0.7982 - val_acc: 0.6450\n",
            "Epoch 21/100\n",
            "20/20 [==============================] - 0s 5ms/step - loss: 0.7926 - acc: 0.6363 - val_loss: 0.7958 - val_acc: 0.6350\n",
            "Epoch 22/100\n",
            "20/20 [==============================] - 0s 5ms/step - loss: 0.7686 - acc: 0.6525 - val_loss: 0.8585 - val_acc: 0.6500\n",
            "Epoch 23/100\n",
            "20/20 [==============================] - 0s 5ms/step - loss: 0.7826 - acc: 0.6400 - val_loss: 0.8320 - val_acc: 0.5900\n",
            "Epoch 24/100\n",
            "20/20 [==============================] - 0s 5ms/step - loss: 0.7684 - acc: 0.6538 - val_loss: 0.7664 - val_acc: 0.6600\n",
            "Epoch 25/100\n",
            "20/20 [==============================] - 0s 5ms/step - loss: 0.7382 - acc: 0.6562 - val_loss: 0.7817 - val_acc: 0.6400\n",
            "Epoch 26/100\n",
            "20/20 [==============================] - 0s 5ms/step - loss: 0.7455 - acc: 0.6650 - val_loss: 0.8179 - val_acc: 0.6700\n",
            "Epoch 27/100\n",
            "20/20 [==============================] - 0s 5ms/step - loss: 0.7524 - acc: 0.6438 - val_loss: 0.8019 - val_acc: 0.6600\n",
            "Epoch 28/100\n",
            "20/20 [==============================] - 0s 5ms/step - loss: 0.7189 - acc: 0.6662 - val_loss: 0.8135 - val_acc: 0.6300\n",
            "Epoch 29/100\n",
            "20/20 [==============================] - 0s 5ms/step - loss: 0.7206 - acc: 0.6725 - val_loss: 0.7969 - val_acc: 0.6750\n",
            "Epoch 30/100\n",
            "20/20 [==============================] - 0s 5ms/step - loss: 0.7202 - acc: 0.6787 - val_loss: 0.7749 - val_acc: 0.6500\n",
            "Epoch 31/100\n",
            "20/20 [==============================] - 0s 5ms/step - loss: 0.7177 - acc: 0.6812 - val_loss: 0.7884 - val_acc: 0.7000\n",
            "Epoch 32/100\n",
            "20/20 [==============================] - 0s 6ms/step - loss: 0.7206 - acc: 0.6700 - val_loss: 0.8007 - val_acc: 0.6400\n",
            "Epoch 33/100\n",
            "20/20 [==============================] - 0s 5ms/step - loss: 0.7078 - acc: 0.6775 - val_loss: 0.7623 - val_acc: 0.6650\n",
            "Epoch 34/100\n",
            "20/20 [==============================] - 0s 5ms/step - loss: 0.7117 - acc: 0.6812 - val_loss: 0.7631 - val_acc: 0.7200\n",
            "Epoch 35/100\n",
            "20/20 [==============================] - 0s 5ms/step - loss: 0.7134 - acc: 0.6787 - val_loss: 0.7663 - val_acc: 0.7000\n",
            "Epoch 36/100\n",
            "20/20 [==============================] - 0s 5ms/step - loss: 0.7057 - acc: 0.6787 - val_loss: 0.7659 - val_acc: 0.6650\n",
            "Epoch 37/100\n",
            "20/20 [==============================] - 0s 5ms/step - loss: 0.6974 - acc: 0.6700 - val_loss: 0.7569 - val_acc: 0.7200\n",
            "Epoch 38/100\n",
            "20/20 [==============================] - 0s 5ms/step - loss: 0.6972 - acc: 0.6850 - val_loss: 0.7700 - val_acc: 0.6650\n",
            "Epoch 39/100\n",
            "20/20 [==============================] - 0s 5ms/step - loss: 0.7129 - acc: 0.6862 - val_loss: 0.7747 - val_acc: 0.7000\n",
            "Epoch 40/100\n",
            "20/20 [==============================] - 0s 5ms/step - loss: 0.6944 - acc: 0.6862 - val_loss: 0.7835 - val_acc: 0.6650\n",
            "Epoch 41/100\n",
            "20/20 [==============================] - 0s 5ms/step - loss: 0.7021 - acc: 0.6837 - val_loss: 0.7833 - val_acc: 0.6600\n",
            "Epoch 42/100\n",
            "20/20 [==============================] - 0s 5ms/step - loss: 0.6906 - acc: 0.6850 - val_loss: 0.7722 - val_acc: 0.7250\n",
            "Epoch 43/100\n",
            "20/20 [==============================] - 0s 5ms/step - loss: 0.7106 - acc: 0.6675 - val_loss: 0.7738 - val_acc: 0.6800\n",
            "Epoch 44/100\n",
            "20/20 [==============================] - 0s 5ms/step - loss: 0.6850 - acc: 0.7025 - val_loss: 0.8065 - val_acc: 0.6350\n",
            "Epoch 45/100\n",
            "20/20 [==============================] - 0s 5ms/step - loss: 0.7056 - acc: 0.6787 - val_loss: 0.7815 - val_acc: 0.6700\n",
            "Epoch 46/100\n",
            "20/20 [==============================] - 0s 6ms/step - loss: 0.6924 - acc: 0.6812 - val_loss: 0.8324 - val_acc: 0.6550\n",
            "Epoch 47/100\n",
            "20/20 [==============================] - 0s 5ms/step - loss: 0.6975 - acc: 0.6888 - val_loss: 0.7907 - val_acc: 0.6600\n",
            "Epoch 48/100\n",
            "20/20 [==============================] - 0s 5ms/step - loss: 0.6922 - acc: 0.6925 - val_loss: 0.8460 - val_acc: 0.6200\n",
            "Epoch 49/100\n",
            "20/20 [==============================] - 0s 6ms/step - loss: 0.7352 - acc: 0.6837 - val_loss: 0.7864 - val_acc: 0.7000\n",
            "Epoch 50/100\n",
            "20/20 [==============================] - 0s 5ms/step - loss: 0.6931 - acc: 0.6875 - val_loss: 0.8271 - val_acc: 0.6150\n",
            "Epoch 51/100\n",
            "20/20 [==============================] - 0s 5ms/step - loss: 0.6987 - acc: 0.6925 - val_loss: 0.7721 - val_acc: 0.7150\n",
            "Epoch 52/100\n",
            "20/20 [==============================] - 0s 4ms/step - loss: 0.7098 - acc: 0.6850 - val_loss: 0.7849 - val_acc: 0.6450\n",
            "Epoch 53/100\n",
            "20/20 [==============================] - 0s 5ms/step - loss: 0.6878 - acc: 0.6938 - val_loss: 0.7841 - val_acc: 0.6550\n",
            "Epoch 54/100\n",
            "20/20 [==============================] - 0s 5ms/step - loss: 0.6830 - acc: 0.6888 - val_loss: 0.8141 - val_acc: 0.6350\n",
            "Epoch 55/100\n",
            "20/20 [==============================] - 0s 5ms/step - loss: 0.6805 - acc: 0.7000 - val_loss: 0.8062 - val_acc: 0.6250\n",
            "Epoch 56/100\n",
            "20/20 [==============================] - 0s 5ms/step - loss: 0.6939 - acc: 0.6762 - val_loss: 0.8294 - val_acc: 0.6900\n",
            "Epoch 57/100\n",
            "20/20 [==============================] - 0s 5ms/step - loss: 0.6978 - acc: 0.6800 - val_loss: 0.7852 - val_acc: 0.6650\n",
            "Epoch 58/100\n",
            "20/20 [==============================] - 0s 5ms/step - loss: 0.6878 - acc: 0.6725 - val_loss: 0.8177 - val_acc: 0.6200\n",
            "Epoch 59/100\n",
            "20/20 [==============================] - 0s 4ms/step - loss: 0.7121 - acc: 0.6687 - val_loss: 0.8049 - val_acc: 0.6650\n",
            "Epoch 60/100\n",
            "20/20 [==============================] - 0s 6ms/step - loss: 0.6848 - acc: 0.7138 - val_loss: 0.7940 - val_acc: 0.6550\n",
            "Epoch 61/100\n",
            "20/20 [==============================] - 0s 5ms/step - loss: 0.6808 - acc: 0.6888 - val_loss: 0.7783 - val_acc: 0.6850\n",
            "Epoch 62/100\n",
            "20/20 [==============================] - 0s 5ms/step - loss: 0.6766 - acc: 0.7013 - val_loss: 0.7716 - val_acc: 0.6750\n",
            "Epoch 63/100\n",
            "20/20 [==============================] - 0s 5ms/step - loss: 0.6973 - acc: 0.6913 - val_loss: 0.7791 - val_acc: 0.6550\n",
            "Epoch 64/100\n",
            "20/20 [==============================] - 0s 5ms/step - loss: 0.6948 - acc: 0.6625 - val_loss: 0.7747 - val_acc: 0.6850\n",
            "Epoch 65/100\n",
            "20/20 [==============================] - 0s 5ms/step - loss: 0.6947 - acc: 0.6837 - val_loss: 0.7972 - val_acc: 0.6450\n",
            "Epoch 66/100\n",
            "20/20 [==============================] - 0s 5ms/step - loss: 0.6685 - acc: 0.6950 - val_loss: 0.8014 - val_acc: 0.6450\n",
            "Epoch 67/100\n",
            "20/20 [==============================] - 0s 5ms/step - loss: 0.6764 - acc: 0.7038 - val_loss: 0.7737 - val_acc: 0.6850\n",
            "Epoch 68/100\n",
            "20/20 [==============================] - 0s 5ms/step - loss: 0.6892 - acc: 0.6913 - val_loss: 0.7808 - val_acc: 0.6650\n",
            "Epoch 69/100\n",
            "20/20 [==============================] - 0s 4ms/step - loss: 0.6763 - acc: 0.7100 - val_loss: 0.7924 - val_acc: 0.6550\n",
            "Epoch 70/100\n",
            "20/20 [==============================] - 0s 5ms/step - loss: 0.6739 - acc: 0.6888 - val_loss: 0.7730 - val_acc: 0.6900\n",
            "Epoch 71/100\n",
            "20/20 [==============================] - 0s 5ms/step - loss: 0.6692 - acc: 0.6975 - val_loss: 0.7979 - val_acc: 0.6950\n",
            "Epoch 72/100\n",
            "20/20 [==============================] - 0s 5ms/step - loss: 0.6812 - acc: 0.6787 - val_loss: 0.7947 - val_acc: 0.6550\n",
            "Epoch 73/100\n",
            "20/20 [==============================] - 0s 4ms/step - loss: 0.6833 - acc: 0.7013 - val_loss: 0.7953 - val_acc: 0.6500\n",
            "Epoch 74/100\n",
            "20/20 [==============================] - 0s 4ms/step - loss: 0.6674 - acc: 0.6875 - val_loss: 0.7758 - val_acc: 0.6900\n",
            "Epoch 75/100\n",
            "20/20 [==============================] - 0s 5ms/step - loss: 0.6697 - acc: 0.6988 - val_loss: 0.8145 - val_acc: 0.6300\n",
            "Epoch 76/100\n",
            "20/20 [==============================] - 0s 5ms/step - loss: 0.6811 - acc: 0.6925 - val_loss: 0.7780 - val_acc: 0.6950\n",
            "Epoch 77/100\n",
            "20/20 [==============================] - 0s 4ms/step - loss: 0.6877 - acc: 0.6750 - val_loss: 0.8029 - val_acc: 0.6500\n",
            "Epoch 78/100\n",
            "20/20 [==============================] - 0s 5ms/step - loss: 0.6783 - acc: 0.7038 - val_loss: 0.7837 - val_acc: 0.6550\n",
            "Epoch 79/100\n",
            "20/20 [==============================] - 0s 5ms/step - loss: 0.6759 - acc: 0.6988 - val_loss: 0.8221 - val_acc: 0.6400\n",
            "Epoch 80/100\n",
            "20/20 [==============================] - 0s 5ms/step - loss: 0.6936 - acc: 0.6938 - val_loss: 0.8167 - val_acc: 0.6350\n",
            "Epoch 81/100\n",
            "20/20 [==============================] - 0s 6ms/step - loss: 0.6789 - acc: 0.6913 - val_loss: 0.7944 - val_acc: 0.6950\n",
            "Epoch 82/100\n",
            "20/20 [==============================] - 0s 5ms/step - loss: 0.6854 - acc: 0.6925 - val_loss: 0.7896 - val_acc: 0.6900\n",
            "Epoch 83/100\n",
            "20/20 [==============================] - 0s 5ms/step - loss: 0.6719 - acc: 0.6950 - val_loss: 0.7782 - val_acc: 0.6850\n",
            "Epoch 84/100\n",
            "20/20 [==============================] - 0s 6ms/step - loss: 0.6764 - acc: 0.6913 - val_loss: 0.8306 - val_acc: 0.6400\n",
            "Epoch 85/100\n",
            "20/20 [==============================] - 0s 5ms/step - loss: 0.6774 - acc: 0.6825 - val_loss: 0.7942 - val_acc: 0.6450\n",
            "Epoch 86/100\n",
            "20/20 [==============================] - 0s 6ms/step - loss: 0.6755 - acc: 0.6988 - val_loss: 0.7933 - val_acc: 0.6700\n",
            "Epoch 87/100\n",
            "20/20 [==============================] - 0s 5ms/step - loss: 0.6730 - acc: 0.6900 - val_loss: 0.7947 - val_acc: 0.6650\n",
            "Epoch 88/100\n",
            "20/20 [==============================] - 0s 5ms/step - loss: 0.6746 - acc: 0.7100 - val_loss: 0.7937 - val_acc: 0.6950\n",
            "Epoch 89/100\n",
            "20/20 [==============================] - 0s 5ms/step - loss: 0.6726 - acc: 0.7000 - val_loss: 0.8223 - val_acc: 0.6200\n",
            "Epoch 90/100\n",
            "20/20 [==============================] - 0s 5ms/step - loss: 0.6893 - acc: 0.6837 - val_loss: 0.8082 - val_acc: 0.6900\n",
            "Epoch 91/100\n",
            "20/20 [==============================] - 0s 5ms/step - loss: 0.6685 - acc: 0.7000 - val_loss: 0.8001 - val_acc: 0.6900\n",
            "Epoch 92/100\n",
            "20/20 [==============================] - 0s 4ms/step - loss: 0.6688 - acc: 0.6862 - val_loss: 0.8019 - val_acc: 0.6700\n",
            "Epoch 93/100\n",
            "20/20 [==============================] - 0s 5ms/step - loss: 0.6754 - acc: 0.6837 - val_loss: 0.8008 - val_acc: 0.6600\n",
            "Epoch 94/100\n",
            "20/20 [==============================] - 0s 4ms/step - loss: 0.6708 - acc: 0.6925 - val_loss: 0.8250 - val_acc: 0.6250\n",
            "Epoch 95/100\n",
            "20/20 [==============================] - 0s 5ms/step - loss: 0.6755 - acc: 0.6837 - val_loss: 0.8244 - val_acc: 0.6300\n",
            "Epoch 96/100\n",
            "20/20 [==============================] - 0s 5ms/step - loss: 0.6722 - acc: 0.6787 - val_loss: 0.8333 - val_acc: 0.6050\n",
            "Epoch 97/100\n",
            "20/20 [==============================] - 0s 5ms/step - loss: 0.6723 - acc: 0.6900 - val_loss: 0.8053 - val_acc: 0.6600\n",
            "Epoch 98/100\n",
            "20/20 [==============================] - 0s 6ms/step - loss: 0.6638 - acc: 0.6950 - val_loss: 0.8034 - val_acc: 0.6500\n",
            "Epoch 99/100\n",
            "20/20 [==============================] - 0s 5ms/step - loss: 0.6687 - acc: 0.6913 - val_loss: 0.8139 - val_acc: 0.6400\n",
            "Epoch 100/100\n",
            "20/20 [==============================] - 0s 5ms/step - loss: 0.6835 - acc: 0.6950 - val_loss: 0.8201 - val_acc: 0.6250\n"
          ],
          "name": "stdout"
        }
      ]
    },
    {
      "cell_type": "code",
      "metadata": {
        "id": "az4LVKZ48YSB",
        "colab": {
          "base_uri": "https://localhost:8080/",
          "height": 349
        },
        "outputId": "9ae500d0-9b31-4909-bf4a-c41e2bff3100"
      },
      "source": [
        "import matplotlib.pyplot as plt\n",
        "his_dict=history.history\n",
        "loss=his_dict['loss']\n",
        "val_loss=his_dict['val_loss']\n",
        "epochs=range(1,len(loss)+1)\n",
        "fig=plt.figure(figsize=(10,5))\n",
        "ax1=fig.add_subplot(1,2,1)\n",
        "ax1.plot(epochs,loss,color='blue',label='train_loss')\n",
        "ax1.plot(epochs,val_loss,color='orange',label='val_loss')\n",
        "ax1.set_title('train and val loss')\n",
        "ax1.set_xlabel('epochs')\n",
        "ax1.set_ylabel('loss')\n",
        "ax1.legend()\n",
        "\n",
        "acc=his_dict['acc']\n",
        "val_acc=his_dict['val_acc']\n",
        "\n",
        "ax2=fig.add_subplot(1,2,2)\n",
        "ax2.plot(epochs,acc,color='blue',label='train_acc')\n",
        "ax2.plot(epochs,val_acc,color='orange',label='val_acc')\n",
        "ax2.set_title('train and val acc')\n",
        "ax2.set_xlabel('epochs')\n",
        "ax2.set_ylabel('acc')\n",
        "ax2.legend()\n",
        "plt.show()"
      ],
      "execution_count": 15,
      "outputs": [
        {
          "output_type": "display_data",
          "data": {
            "image/png": "[encoded data removed]",
            "text/plain": [
              "<Figure size 720x360 with 2 Axes>"
            ]
          },
          "metadata": {
            "tags": [],
            "needs_background": "light"
          }
        }
      ]
    },
    {
      "cell_type": "code",
      "metadata": {
        "id": "mJ2dAqnnC739",
        "colab": {
          "base_uri": "https://localhost:8080/",
          "height": 442
        },
        "outputId": "cd734c15-a452-4ee9-ded9-511a03888b7e"
      },
      "source": [
        "results=model.predict(x_val)\n",
        "from sklearn.metrics import classification_report, confusion_matrix\n",
        "import seaborn as sns\n",
        "\n",
        "plt.figure(figsize=(7,7))\n",
        "cm=confusion_matrix(np.argmax(y_val,axis=-1),np.argmax(results,axis=-1))\n",
        "sns.heatmap(cm,annot=True,fmt='d',cmap='Blues')\n",
        "plt.xlabel('predicted label')\n",
        "plt.ylabel('true label')\n",
        "plt.show()"
      ],
      "execution_count": 16,
      "outputs": [
        {
          "output_type": "display_data",
          "data": {
            "image/png": "[encoded data removed]",
            "text/plain": [
              "<Figure size 504x504 with 2 Axes>"
            ]
          },
          "metadata": {
            "tags": [],
            "needs_background": "light"
          }
        }
      ]
    },
    {
      "cell_type": "code",
      "metadata": {
        "id": "nYEaNXFuD6p0",
        "colab": {
          "base_uri": "https://localhost:8080/"
        },
        "outputId": "c0b82624-1f16-4c3a-c880-db4c64b791c2"
      },
      "source": [
        "print('\\n',classification_report(np.argmax(y_val,axis=-1),np.argmax(results,axis=-1)))"
      ],
      "execution_count": 17,
      "outputs": [
        {
          "output_type": "stream",
          "text": [
            "\n",
            "               precision    recall  f1-score   support\n",
            "\n",
            "           0       0.75      0.73      0.74       105\n",
            "           1       0.53      0.53      0.53        70\n",
            "           2       0.30      0.35      0.32        17\n",
            "           3       0.71      0.62      0.67         8\n",
            "\n",
            "    accuracy                           0.62       200\n",
            "   macro avg       0.57      0.56      0.56       200\n",
            "weighted avg       0.63      0.62      0.63       200\n",
            "\n"
          ],
          "name": "stdout"
        }
      ]
    },
    {
      "cell_type": "code",
      "metadata": {
        "id": "PqEDCtiaUUFR",
        "colab": {
          "base_uri": "https://localhost:8080/"
        },
        "outputId": "4c84b567-2972-4589-9bc4-1a6a108c9434"
      },
      "source": [
        "model.summary()"
      ],
      "execution_count": 18,
      "outputs": [
        {
          "output_type": "stream",
          "text": [
            "Model: \"model\"\n",
            "_________________________________________________________________\n",
            "Layer (type)                 Output Shape              Param #   \n",
            "=================================================================\n",
            "input_1 (InputLayer)         [(None, 36)]              0         \n",
            "_________________________________________________________________\n",
            "flatten (Flatten)            (None, 36)                0         \n",
            "_________________________________________________________________\n",
            "dense (Dense)                (None, 800)               29600     \n",
            "_________________________________________________________________\n",
            "activation (Activation)      (None, 800)               0         \n",
            "_________________________________________________________________\n",
            "dense_1 (Dense)              (None, 400)               320400    \n",
            "_________________________________________________________________\n",
            "activation_1 (Activation)    (None, 400)               0         \n",
            "_________________________________________________________________\n",
            "dense_2 (Dense)              (None, 4)                 1604      \n",
            "=================================================================\n",
            "Total params: 351,604\n",
            "Trainable params: 351,604\n",
            "Non-trainable params: 0\n",
            "_________________________________________________________________\n"
          ],
          "name": "stdout"
        }
      ]
    }
  ]
}