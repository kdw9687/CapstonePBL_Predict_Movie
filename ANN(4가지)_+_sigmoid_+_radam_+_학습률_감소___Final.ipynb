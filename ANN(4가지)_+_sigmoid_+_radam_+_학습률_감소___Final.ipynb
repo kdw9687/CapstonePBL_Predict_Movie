{
  "nbformat": 4,
  "nbformat_minor": 0,
  "metadata": {
    "colab": {
      "name": "ANN(4가지) + sigmoid + radam + 학습률 감소 _ Final",
      "provenance": [],
      "collapsed_sections": [],
      "authorship_tag": "ABX9TyMKdZhrnyUQgtyxfA3t1wzu",
      "include_colab_link": true
    },
    "kernelspec": {
      "name": "python3",
      "display_name": "Python 3"
    },
    "language_info": {
      "name": "python"
    },
    "accelerator": "GPU"
  },
  "cells": [
    {
      "cell_type": "markdown",
      "metadata": {
        "id": "view-in-github",
        "colab_type": "text"
      },
      "source": [
        "<a href=\"https://colab.research.google.com/github/kdw9687/CapstonePBL_Predict_Movie/blob/main/ANN(4%EA%B0%80%EC%A7%80)_%2B_sigmoid_%2B_radam_%2B_%ED%95%99%EC%8A%B5%EB%A5%A0_%EA%B0%90%EC%86%8C___Final.ipynb\" target=\"_parent\"><img src=\"https://colab.research.google.com/assets/colab-badge.svg\" alt=\"Open In Colab\"/></a>"
      ]
    },
    {
      "cell_type": "code",
      "metadata": {
        "colab": {
          "base_uri": "https://localhost:8080/"
        },
        "id": "MjCBhV0x5yds",
        "outputId": "4f9da94b-9127-45dc-d09c-12bedfb9ff60"
      },
      "source": [
        "#@title \n",
        "!pip install -q keras-bert keras-rectified-adam\n",
        "!wget -q https://storage.googleapis.com/bert_models/2018_10_18/uncased_L-12_H-768_A-12.zip\n",
        "!unzip -o uncased_L-12_H-768_A-12.zip\n",
        "!pip install -U keras-tuner\n",
        "!pip install -q -U tensorflow-addons"
      ],
      "execution_count": null,
      "outputs": [
        {
          "output_type": "stream",
          "text": [
            "Archive:  uncased_L-12_H-768_A-12.zip\n",
            "  inflating: uncased_L-12_H-768_A-12/bert_model.ckpt.meta  \n",
            "  inflating: uncased_L-12_H-768_A-12/bert_model.ckpt.data-00000-of-00001  \n",
            "  inflating: uncased_L-12_H-768_A-12/vocab.txt  \n",
            "  inflating: uncased_L-12_H-768_A-12/bert_model.ckpt.index  \n",
            "  inflating: uncased_L-12_H-768_A-12/bert_config.json  \n",
            "Requirement already up-to-date: keras-tuner in /usr/local/lib/python3.7/dist-packages (1.0.2)\n",
            "Requirement already satisfied, skipping upgrade: scikit-learn in /usr/local/lib/python3.7/dist-packages (from keras-tuner) (0.22.2.post1)\n",
            "Requirement already satisfied, skipping upgrade: packaging in /usr/local/lib/python3.7/dist-packages (from keras-tuner) (20.9)\n",
            "Requirement already satisfied, skipping upgrade: scipy in /usr/local/lib/python3.7/dist-packages (from keras-tuner) (1.4.1)\n",
            "Requirement already satisfied, skipping upgrade: future in /usr/local/lib/python3.7/dist-packages (from keras-tuner) (0.16.0)\n",
            "Requirement already satisfied, skipping upgrade: tabulate in /usr/local/lib/python3.7/dist-packages (from keras-tuner) (0.8.9)\n",
            "Requirement already satisfied, skipping upgrade: requests in /usr/local/lib/python3.7/dist-packages (from keras-tuner) (2.23.0)\n",
            "Requirement already satisfied, skipping upgrade: colorama in /usr/local/lib/python3.7/dist-packages (from keras-tuner) (0.4.4)\n",
            "Requirement already satisfied, skipping upgrade: numpy in /usr/local/lib/python3.7/dist-packages (from keras-tuner) (1.19.5)\n",
            "Requirement already satisfied, skipping upgrade: terminaltables in /usr/local/lib/python3.7/dist-packages (from keras-tuner) (3.1.0)\n",
            "Requirement already satisfied, skipping upgrade: tqdm in /usr/local/lib/python3.7/dist-packages (from keras-tuner) (4.41.1)\n",
            "Requirement already satisfied, skipping upgrade: joblib>=0.11 in /usr/local/lib/python3.7/dist-packages (from scikit-learn->keras-tuner) (1.0.1)\n",
            "Requirement already satisfied, skipping upgrade: pyparsing>=2.0.2 in /usr/local/lib/python3.7/dist-packages (from packaging->keras-tuner) (2.4.7)\n",
            "Requirement already satisfied, skipping upgrade: chardet<4,>=3.0.2 in /usr/local/lib/python3.7/dist-packages (from requests->keras-tuner) (3.0.4)\n",
            "Requirement already satisfied, skipping upgrade: certifi>=2017.4.17 in /usr/local/lib/python3.7/dist-packages (from requests->keras-tuner) (2020.12.5)\n",
            "Requirement already satisfied, skipping upgrade: urllib3!=1.25.0,!=1.25.1,<1.26,>=1.21.1 in /usr/local/lib/python3.7/dist-packages (from requests->keras-tuner) (1.24.3)\n",
            "Requirement already satisfied, skipping upgrade: idna<3,>=2.5 in /usr/local/lib/python3.7/dist-packages (from requests->keras-tuner) (2.10)\n"
          ],
          "name": "stdout"
        }
      ]
    },
    {
      "cell_type": "code",
      "metadata": {
        "colab": {
          "base_uri": "https://localhost:8080/"
        },
        "id": "dtf3yucHy6x2",
        "outputId": "f0f7e425-692c-4685-9c21-5bc894e29246"
      },
      "source": [
        "import tensorflow as tf\n",
        "import pandas as pd\n",
        "import numpy as np\n",
        "from sklearn.model_selection import train_test_split\n",
        "from google.colab import drive\n",
        "from tensorflow.keras.models import Sequential\n",
        "from tensorflow.keras.layers import Dense,Input,Flatten,Activation\n",
        "from tensorflow.keras.utils import to_categorical\n",
        "drive.mount('/content/drive')\n",
        "from tensorflow.keras import backend as K\n",
        "from tensorflow.keras.models import Model\n",
        "import sys\n",
        "import numpy as np\n",
        "from sklearn import preprocessing\n",
        "from keras_radam import RAdam\n",
        "np.set_printoptions(threshold=sys.maxsize)"
      ],
      "execution_count": null,
      "outputs": [
        {
          "output_type": "stream",
          "text": [
            "Drive already mounted at /content/drive; to attempt to forcibly remount, call drive.mount(\"/content/drive\", force_remount=True).\n"
          ],
          "name": "stdout"
        }
      ]
    },
    {
      "cell_type": "code",
      "metadata": {
        "id": "8bN6vHoxy8l4"
      },
      "source": [
        "def Mish(x):\n",
        "  return x * K.tanh(K.softplus(x))"
      ],
      "execution_count": null,
      "outputs": []
    },
    {
      "cell_type": "code",
      "metadata": {
        "id": "f-gGSGoWzMeP"
      },
      "source": [
        "file='/content/drive/MyDrive/Colab Notebooks/데이터 판다스용완.csv'"
      ],
      "execution_count": null,
      "outputs": []
    },
    {
      "cell_type": "code",
      "metadata": {
        "id": "Sr7n_VFazWfM"
      },
      "source": [
        "data=pd.read_csv(file)"
      ],
      "execution_count": null,
      "outputs": []
    },
    {
      "cell_type": "code",
      "metadata": {
        "id": "DTTTzPbD0CJp"
      },
      "source": [
        "data=data.dropna()"
      ],
      "execution_count": null,
      "outputs": []
    },
    {
      "cell_type": "code",
      "metadata": {
        "id": "chh2hayt2uMO"
      },
      "source": [
        "data.drop(columns=['순번','장르','국적.1','연휴 및 기념일 상영 여부','수상'],inplace=True)\n",
        "data.set_index('영화명',inplace=True)\n",
        "target=data['전국 관객수']\n",
        "target.dropna(inplace=True)\n",
        "x=data.drop(columns=['전국 매출액','전국 관객수'])\n",
        "y=target"
      ],
      "execution_count": null,
      "outputs": []
    },
    {
      "cell_type": "code",
      "metadata": {
        "id": "9eyXStLjXo4s"
      },
      "source": [
        "scaler=preprocessing.StandardScaler()\n",
        "features_to_scale=['전국 스크린수','러닝타임','네티즌 평점']\n",
        "scale=scaler.fit_transform(data[features_to_scale])\n",
        "x[features_to_scale]=scale"
      ],
      "execution_count": null,
      "outputs": []
    },
    {
      "cell_type": "code",
      "metadata": {
        "id": "-q6-JjE33bpt"
      },
      "source": [
        "for i in range(len(y)):\n",
        "  if y[i]>6000000:\n",
        "    y[i]=3\n",
        "  elif y[i]>3000000 and y[i]<=6000000:\n",
        "    y[i]=2\n",
        "  elif y[i]>1000000 and y[i]<=3000000:\n",
        "    y[i]=1\n",
        "  else:\n",
        "    y[i]=0\n",
        "  x=np.array(x)\n",
        "  y=np.array(y)"
      ],
      "execution_count": null,
      "outputs": []
    },
    {
      "cell_type": "code",
      "metadata": {
        "id": "d_hOZMsT5NCm"
      },
      "source": [
        "x_train,x_val,y_train,y_val=train_test_split(x,y,test_size=0.2,random_state=5)"
      ],
      "execution_count": null,
      "outputs": []
    },
    {
      "cell_type": "code",
      "metadata": {
        "id": "aZDsL9F-5nyk"
      },
      "source": [
        "y_train=to_categorical(y_train)\n",
        "y_val=to_categorical(y_val)"
      ],
      "execution_count": null,
      "outputs": []
    },
    {
      "cell_type": "code",
      "metadata": {
        "id": "_snbunfZ5YXg"
      },
      "source": [
        "inputs=Input(shape=(36,))\n",
        "x=Flatten()(inputs)\n",
        "x=Dense(800)(x)\n",
        "x=Activation('sigmoid')(x)\n",
        "x=Dense(400)(x)\n",
        "x=Activation('sigmoid')(x)\n",
        "x=Dense(4,activation='softmax')(x)\n",
        "model=Model(inputs=inputs,outputs=x)"
      ],
      "execution_count": null,
      "outputs": []
    },
    {
      "cell_type": "code",
      "metadata": {
        "id": "OIeWa0oN6zTl"
      },
      "source": [
        "model.compile(optimizer=RAdam(learning_rate=tf.compat.v1.train.exponential_decay(0.001,\n",
        "0,5, 0.95,staircase=True)),loss='categorical_crossentropy',metrics=['acc'])"
      ],
      "execution_count": null,
      "outputs": []
    },
    {
      "cell_type": "code",
      "metadata": {
        "id": "cE34DJsd7LSV",
        "colab": {
          "base_uri": "https://localhost:8080/"
        },
        "outputId": "9e955529-38b7-49d5-a917-0ac7099ff4db"
      },
      "source": [
        "history=model.fit(x_train,y_train,epochs=100,batch_size=40,validation_data=(x_val,y_val))"
      ],
      "execution_count": null,
      "outputs": [
        {
          "output_type": "stream",
          "text": [
            "Epoch 1/100\n",
            "20/20 [==============================] - 2s 12ms/step - loss: 1.5994 - acc: 0.2488 - val_loss: 1.1490 - val_acc: 0.5250\n",
            "Epoch 2/100\n",
            "20/20 [==============================] - 0s 5ms/step - loss: 1.1723 - acc: 0.4925 - val_loss: 1.0446 - val_acc: 0.5250\n",
            "Epoch 3/100\n",
            "20/20 [==============================] - 0s 5ms/step - loss: 1.1541 - acc: 0.4775 - val_loss: 1.0442 - val_acc: 0.5250\n",
            "Epoch 4/100\n",
            "16/20 [=======================>......] - ETA: 0s - loss: 1.1483 - acc: 0.4641"
          ],
          "name": "stdout"
        }
      ]
    },
    {
      "cell_type": "code",
      "metadata": {
        "id": "az4LVKZ48YSB"
      },
      "source": [
        "import matplotlib.pyplot as plt\n",
        "his_dict=history.history\n",
        "loss=his_dict['loss']\n",
        "val_loss=his_dict['val_loss']\n",
        "epochs=range(1,len(loss)+1)\n",
        "fig=plt.figure(figsize=(10,5))\n",
        "ax1=fig.add_subplot(1,2,1)\n",
        "ax1.plot(epochs,loss,color='blue',label='train_loss')\n",
        "ax1.plot(epochs,val_loss,color='orange',label='val_loss')\n",
        "ax1.set_title('train and val loss')\n",
        "ax1.set_xlabel('epochs')\n",
        "ax1.set_ylabel('loss')\n",
        "ax1.legend()\n",
        "\n",
        "acc=his_dict['acc']\n",
        "val_acc=his_dict['val_acc']\n",
        "\n",
        "ax2=fig.add_subplot(1,2,2)\n",
        "ax2.plot(epochs,acc,color='blue',label='train_acc')\n",
        "ax2.plot(epochs,val_acc,color='orange',label='val_acc')\n",
        "ax2.set_title('train and val acc')\n",
        "ax2.set_xlabel('epochs')\n",
        "ax2.set_ylabel('acc')\n",
        "ax2.legend()\n",
        "plt.show()"
      ],
      "execution_count": null,
      "outputs": []
    },
    {
      "cell_type": "code",
      "metadata": {
        "id": "mJ2dAqnnC739"
      },
      "source": [
        "results=model.predict(x_val)\n",
        "from sklearn.metrics import classification_report, confusion_matrix\n",
        "import seaborn as sns\n",
        "\n",
        "plt.figure(figsize=(7,7))\n",
        "cm=confusion_matrix(np.argmax(y_val,axis=-1),np.argmax(results,axis=-1))\n",
        "sns.heatmap(cm,annot=True,fmt='d',cmap='Blues')\n",
        "plt.xlabel('predicted label')\n",
        "plt.ylabel('true label')\n",
        "plt.show()"
      ],
      "execution_count": null,
      "outputs": []
    },
    {
      "cell_type": "code",
      "metadata": {
        "id": "nYEaNXFuD6p0"
      },
      "source": [
        "print('\\n',classification_report(np.argmax(y_val,axis=-1),np.argmax(results,axis=-1)))"
      ],
      "execution_count": null,
      "outputs": []
    },
    {
      "cell_type": "code",
      "metadata": {
        "id": "PqEDCtiaUUFR"
      },
      "source": [
        "model.summary()"
      ],
      "execution_count": null,
      "outputs": []
    }
  ]
}